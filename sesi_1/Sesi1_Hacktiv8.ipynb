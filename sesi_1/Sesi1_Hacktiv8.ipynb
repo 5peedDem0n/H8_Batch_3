{
  "nbformat": 4,
  "nbformat_minor": 0,
  "metadata": {
    "colab": {
      "name": "Sesi1_Hacktiv8.ipynb",
      "provenance": []
    },
    "kernelspec": {
      "name": "python3",
      "display_name": "Python 3"
    },
    "language_info": {
      "name": "python"
    }
  },
  "cells": [
    {
      "cell_type": "markdown",
      "source": [
        "Ini adalah notebook pertama saya"
      ],
      "metadata": {
        "id": "Wd_vwxJ7-yzw"
      }
    },
    {
      "cell_type": "code",
      "execution_count": 1,
      "metadata": {
        "colab": {
          "base_uri": "https://localhost:8080/"
        },
        "id": "sJq5C6eZ6yyH",
        "outputId": "17d566eb-9cab-4c71-bfd5-be3c42f48457"
      },
      "outputs": [
        {
          "output_type": "stream",
          "name": "stdout",
          "text": [
            "Hello World\n"
          ]
        }
      ],
      "source": [
        "print(\"Hello World\")"
      ]
    },
    {
      "cell_type": "markdown",
      "source": [
        "Untuk menjalankan kode pada cell, dapat menggunakan shift+enter"
      ],
      "metadata": {
        "id": "TrZ0kXP__FVN"
      }
    },
    {
      "cell_type": "markdown",
      "source": [
        "### TIPE DATA"
      ],
      "metadata": {
        "id": "t7-d_xsWAjIg"
      }
    },
    {
      "cell_type": "code",
      "source": [
        "# tipe data tunggal\n",
        "print(3512)"
      ],
      "metadata": {
        "colab": {
          "base_uri": "https://localhost:8080/"
        },
        "id": "mLpXVFq6_JI4",
        "outputId": "51a6ee13-9d9e-41a7-e8e6-07a3e494b6ed"
      },
      "execution_count": 2,
      "outputs": [
        {
          "output_type": "stream",
          "name": "stdout",
          "text": [
            "3512\n"
          ]
        }
      ]
    },
    {
      "cell_type": "code",
      "source": [
        "type(3512)"
      ],
      "metadata": {
        "colab": {
          "base_uri": "https://localhost:8080/"
        },
        "id": "MYhWYcynAOi6",
        "outputId": "9d0a982f-271e-4f94-c991-c3853d2911ea"
      },
      "execution_count": 3,
      "outputs": [
        {
          "output_type": "execute_result",
          "data": {
            "text/plain": [
              "int"
            ]
          },
          "metadata": {},
          "execution_count": 3
        }
      ]
    },
    {
      "cell_type": "code",
      "source": [
        "print(\"3.1234\")"
      ],
      "metadata": {
        "colab": {
          "base_uri": "https://localhost:8080/"
        },
        "id": "m2yEDE6gAQaa",
        "outputId": "845d3b9d-0589-4fac-f491-fb5e79c54321"
      },
      "execution_count": 4,
      "outputs": [
        {
          "output_type": "stream",
          "name": "stdout",
          "text": [
            "3.1234\n"
          ]
        }
      ]
    },
    {
      "cell_type": "code",
      "source": [
        "type(3.123)"
      ],
      "metadata": {
        "colab": {
          "base_uri": "https://localhost:8080/"
        },
        "id": "9KC764PaAT_u",
        "outputId": "32609f6c-f5ed-4c04-b9d6-65d0b8929936"
      },
      "execution_count": 5,
      "outputs": [
        {
          "output_type": "execute_result",
          "data": {
            "text/plain": [
              "float"
            ]
          },
          "metadata": {},
          "execution_count": 5
        }
      ]
    },
    {
      "cell_type": "code",
      "source": [
        "print(3+2j)"
      ],
      "metadata": {
        "colab": {
          "base_uri": "https://localhost:8080/"
        },
        "id": "OTYvpQbHAXMX",
        "outputId": "b30885ad-be9c-4ab4-cd77-88d941a7ba1e"
      },
      "execution_count": 6,
      "outputs": [
        {
          "output_type": "stream",
          "name": "stdout",
          "text": [
            "(3+2j)\n"
          ]
        }
      ]
    },
    {
      "cell_type": "code",
      "source": [
        "type(3+2j)"
      ],
      "metadata": {
        "colab": {
          "base_uri": "https://localhost:8080/"
        },
        "id": "bkdoOqVRAcUu",
        "outputId": "2aee2318-24c7-41f7-b1c3-1c84b290666b"
      },
      "execution_count": 9,
      "outputs": [
        {
          "output_type": "execute_result",
          "data": {
            "text/plain": [
              "complex"
            ]
          },
          "metadata": {},
          "execution_count": 9
        }
      ]
    },
    {
      "cell_type": "code",
      "source": [
        "print(True)"
      ],
      "metadata": {
        "colab": {
          "base_uri": "https://localhost:8080/"
        },
        "id": "04idT-ttA5h5",
        "outputId": "b7fe45a5-fcc2-4b32-9a02-201f50639b8f"
      },
      "execution_count": 10,
      "outputs": [
        {
          "output_type": "stream",
          "name": "stdout",
          "text": [
            "True\n"
          ]
        }
      ]
    },
    {
      "cell_type": "code",
      "source": [
        "type(True)"
      ],
      "metadata": {
        "colab": {
          "base_uri": "https://localhost:8080/"
        },
        "id": "KXg-tSYBBAcB",
        "outputId": "f5b0c519-be50-47cc-9e7d-5793b2144d7a"
      },
      "execution_count": 11,
      "outputs": [
        {
          "output_type": "execute_result",
          "data": {
            "text/plain": [
              "bool"
            ]
          },
          "metadata": {},
          "execution_count": 11
        }
      ]
    },
    {
      "cell_type": "code",
      "source": [
        "print(False)\n",
        "type(False)"
      ],
      "metadata": {
        "colab": {
          "base_uri": "https://localhost:8080/"
        },
        "id": "CZc-MeocBSa0",
        "outputId": "2b331a2a-e01e-4522-f6a6-766d71aee69a"
      },
      "execution_count": 12,
      "outputs": [
        {
          "output_type": "stream",
          "name": "stdout",
          "text": [
            "False\n"
          ]
        },
        {
          "output_type": "execute_result",
          "data": {
            "text/plain": [
              "bool"
            ]
          },
          "metadata": {},
          "execution_count": 12
        }
      ]
    },
    {
      "cell_type": "code",
      "source": [
        "print(\"halo dunia\")\n",
        "type(\"halo dunia\")"
      ],
      "metadata": {
        "colab": {
          "base_uri": "https://localhost:8080/"
        },
        "id": "WEJ8ZFatBWu9",
        "outputId": "4d112c2c-b6a6-4fb1-b450-f920b6bd0667"
      },
      "execution_count": 14,
      "outputs": [
        {
          "output_type": "stream",
          "name": "stdout",
          "text": [
            "halo dunia\n"
          ]
        },
        {
          "output_type": "execute_result",
          "data": {
            "text/plain": [
              "str"
            ]
          },
          "metadata": {},
          "execution_count": 14
        }
      ]
    },
    {
      "cell_type": "code",
      "source": [
        "print('nama saya felis')\n",
        "type('nama saya felis')"
      ],
      "metadata": {
        "colab": {
          "base_uri": "https://localhost:8080/"
        },
        "id": "57cww13GBsWh",
        "outputId": "803a7d79-0ea0-4f2e-a970-c67e344121f9"
      },
      "execution_count": 15,
      "outputs": [
        {
          "output_type": "stream",
          "name": "stdout",
          "text": [
            "nama saya felis\n"
          ]
        },
        {
          "output_type": "execute_result",
          "data": {
            "text/plain": [
              "str"
            ]
          },
          "metadata": {},
          "execution_count": 15
        }
      ]
    },
    {
      "cell_type": "markdown",
      "source": [
        "### Variabel"
      ],
      "metadata": {
        "id": "EaMkQr2iEJ-N"
      }
    },
    {
      "cell_type": "code",
      "source": [
        "a = 12"
      ],
      "metadata": {
        "id": "mVEDJDu_CL93"
      },
      "execution_count": 16,
      "outputs": []
    },
    {
      "cell_type": "code",
      "source": [
        "print(a)\n",
        "type(a)"
      ],
      "metadata": {
        "colab": {
          "base_uri": "https://localhost:8080/"
        },
        "id": "RuW08U8gEW2A",
        "outputId": "c044e95e-5c03-444b-f063-eab6ab553401"
      },
      "execution_count": 18,
      "outputs": [
        {
          "output_type": "stream",
          "name": "stdout",
          "text": [
            "12\n"
          ]
        },
        {
          "output_type": "execute_result",
          "data": {
            "text/plain": [
              "int"
            ]
          },
          "metadata": {},
          "execution_count": 18
        }
      ]
    },
    {
      "cell_type": "code",
      "source": [
        "a = 7.5\n",
        "print(a)\n",
        "type(a)"
      ],
      "metadata": {
        "colab": {
          "base_uri": "https://localhost:8080/"
        },
        "id": "oIjjLFw3Ef-V",
        "outputId": "d9215986-8b01-4600-ccc4-fc229f45e29c"
      },
      "execution_count": 20,
      "outputs": [
        {
          "output_type": "stream",
          "name": "stdout",
          "text": [
            "7.5\n"
          ]
        },
        {
          "output_type": "execute_result",
          "data": {
            "text/plain": [
              "float"
            ]
          },
          "metadata": {},
          "execution_count": 20
        }
      ]
    },
    {
      "cell_type": "code",
      "source": [
        "angka_1, angka_2 = 7, 15.2"
      ],
      "metadata": {
        "id": "Noh_-vnoEo42"
      },
      "execution_count": 21,
      "outputs": []
    },
    {
      "cell_type": "code",
      "source": [
        "print(angka_1)\n",
        "print(angka_2)"
      ],
      "metadata": {
        "colab": {
          "base_uri": "https://localhost:8080/"
        },
        "id": "NzDrhVOhE9IH",
        "outputId": "3836ea20-6602-4475-e5a1-9d03dc50db14"
      },
      "execution_count": 22,
      "outputs": [
        {
          "output_type": "stream",
          "name": "stdout",
          "text": [
            "7\n",
            "15.2\n"
          ]
        }
      ]
    },
    {
      "cell_type": "code",
      "source": [
        "nama = \"Felis Tigris H.\"\n",
        "print(nama)\n",
        "type(nama)"
      ],
      "metadata": {
        "colab": {
          "base_uri": "https://localhost:8080/"
        },
        "id": "yA3TYRn8FAsw",
        "outputId": "6de5353d-2e85-49a7-e1d4-20ca785fe909"
      },
      "execution_count": 23,
      "outputs": [
        {
          "output_type": "stream",
          "name": "stdout",
          "text": [
            "Felis Tigris H.\n"
          ]
        },
        {
          "output_type": "execute_result",
          "data": {
            "text/plain": [
              "str"
            ]
          },
          "metadata": {},
          "execution_count": 23
        }
      ]
    },
    {
      "cell_type": "markdown",
      "source": [
        "### Operasi"
      ],
      "metadata": {
        "id": "7PkcG-KaHPTl"
      }
    },
    {
      "cell_type": "code",
      "source": [
        "5 + 3"
      ],
      "metadata": {
        "colab": {
          "base_uri": "https://localhost:8080/"
        },
        "id": "z9feH8sUGByO",
        "outputId": "fcbb0226-728d-405d-e043-7c31c5d775fc"
      },
      "execution_count": 24,
      "outputs": [
        {
          "output_type": "execute_result",
          "data": {
            "text/plain": [
              "8"
            ]
          },
          "metadata": {},
          "execution_count": 24
        }
      ]
    },
    {
      "cell_type": "code",
      "source": [
        "2**3"
      ],
      "metadata": {
        "colab": {
          "base_uri": "https://localhost:8080/"
        },
        "id": "AR3nFjRFHitV",
        "outputId": "d2a3a221-6370-4fae-b2dc-1d6da9da7a30"
      },
      "execution_count": 25,
      "outputs": [
        {
          "output_type": "execute_result",
          "data": {
            "text/plain": [
              "8"
            ]
          },
          "metadata": {},
          "execution_count": 25
        }
      ]
    },
    {
      "cell_type": "code",
      "source": [
        "a = 5\n",
        "b = 4\n",
        "\n",
        "a // b"
      ],
      "metadata": {
        "colab": {
          "base_uri": "https://localhost:8080/"
        },
        "id": "4aepXVmpHpUl",
        "outputId": "7a3cea11-807f-40e8-bfca-4fa3923e3f85"
      },
      "execution_count": 30,
      "outputs": [
        {
          "output_type": "execute_result",
          "data": {
            "text/plain": [
              "1"
            ]
          },
          "metadata": {},
          "execution_count": 30
        }
      ]
    },
    {
      "cell_type": "code",
      "source": [
        "a % b"
      ],
      "metadata": {
        "colab": {
          "base_uri": "https://localhost:8080/"
        },
        "id": "yExBWmoiIAEj",
        "outputId": "70f037fc-617a-4782-86db-a53778f332b5"
      },
      "execution_count": 32,
      "outputs": [
        {
          "output_type": "execute_result",
          "data": {
            "text/plain": [
              "1"
            ]
          },
          "metadata": {},
          "execution_count": 32
        }
      ]
    },
    {
      "cell_type": "code",
      "source": [
        "# aritmatika\n",
        "print(a+b)\n",
        "print(a*b)"
      ],
      "metadata": {
        "colab": {
          "base_uri": "https://localhost:8080/"
        },
        "id": "VhOQ1W2SINep",
        "outputId": "50d600f1-b378-494e-e7b2-eefce926d66d"
      },
      "execution_count": 33,
      "outputs": [
        {
          "output_type": "stream",
          "name": "stdout",
          "text": [
            "9\n",
            "20\n"
          ]
        }
      ]
    },
    {
      "cell_type": "code",
      "source": [
        "# string\n",
        "nama_depan = \"Ngoding\"\n",
        "nama_belakang = \"Python\"\n",
        "\n",
        "print(nama_depan + nama_belakang)"
      ],
      "metadata": {
        "colab": {
          "base_uri": "https://localhost:8080/"
        },
        "id": "nlE6qOfyISBH",
        "outputId": "d39905ad-6a0a-4508-ced5-2d9084d44417"
      },
      "execution_count": 2,
      "outputs": [
        {
          "output_type": "stream",
          "name": "stdout",
          "text": [
            "NgodingPython\n"
          ]
        }
      ]
    },
    {
      "cell_type": "code",
      "source": [
        "print(nama_depan * 4)"
      ],
      "metadata": {
        "colab": {
          "base_uri": "https://localhost:8080/"
        },
        "id": "ShA6tveHIcww",
        "outputId": "2b821026-2353-4070-f06f-27edf7729d47"
      },
      "execution_count": 3,
      "outputs": [
        {
          "output_type": "stream",
          "name": "stdout",
          "text": [
            "NgodingNgodingNgodingNgoding\n"
          ]
        }
      ]
    },
    {
      "cell_type": "code",
      "source": [
        "# perbandingan\n",
        "a = 10\n",
        "b = 5\n",
        "\n",
        "print(a >= b)"
      ],
      "metadata": {
        "colab": {
          "base_uri": "https://localhost:8080/"
        },
        "id": "u3v5DiEcI73h",
        "outputId": "78b14df8-8470-40eb-f59a-3cd05e4272ec"
      },
      "execution_count": 4,
      "outputs": [
        {
          "output_type": "stream",
          "name": "stdout",
          "text": [
            "True\n"
          ]
        }
      ]
    },
    {
      "cell_type": "code",
      "source": [
        "# logika\n",
        "print(False or True)\n",
        "print(False and True)"
      ],
      "metadata": {
        "colab": {
          "base_uri": "https://localhost:8080/"
        },
        "id": "ckpJL2O-Jpz3",
        "outputId": "2da2f08c-40aa-4452-df4c-b279f4679cb1"
      },
      "execution_count": 8,
      "outputs": [
        {
          "output_type": "stream",
          "name": "stdout",
          "text": [
            "True\n",
            "False\n"
          ]
        }
      ]
    },
    {
      "cell_type": "code",
      "source": [
        "nama = \"NgodingPython channel\"\n",
        "print(nama.capitalize())\n",
        "print(nama.upper())\n",
        "print(nama.lower())\n",
        "print(nama.title())"
      ],
      "metadata": {
        "colab": {
          "base_uri": "https://localhost:8080/"
        },
        "id": "2V2EhrGNKmHc",
        "outputId": "04450042-0ec3-460a-834a-386ec4bf00c5"
      },
      "execution_count": 12,
      "outputs": [
        {
          "output_type": "stream",
          "name": "stdout",
          "text": [
            "Ngodingpython channel\n",
            "NGODINGPYTHON CHANNEL\n",
            "ngodingpython channel\n",
            "Ngodingpython Channel\n"
          ]
        }
      ]
    },
    {
      "cell_type": "markdown",
      "source": [
        "### Tipe Data Majemuk"
      ],
      "metadata": {
        "id": "D5fe32WMMey3"
      }
    },
    {
      "cell_type": "code",
      "source": [
        "# tuple dan list\n",
        "my_tuple = (53, 45.2, True, \"Felis\", (1, 2, 3))\n",
        "print(my_tuple)\n",
        "type(my_tuple)"
      ],
      "metadata": {
        "colab": {
          "base_uri": "https://localhost:8080/"
        },
        "id": "bNqWt6RfLzVa",
        "outputId": "0718a46c-7f6b-4b21-9a5c-aa2c6777fa10"
      },
      "execution_count": 14,
      "outputs": [
        {
          "output_type": "stream",
          "name": "stdout",
          "text": [
            "(53, 45.2, True, 'Felis', (1, 2, 3))\n"
          ]
        },
        {
          "output_type": "execute_result",
          "data": {
            "text/plain": [
              "tuple"
            ]
          },
          "metadata": {},
          "execution_count": 14
        }
      ]
    },
    {
      "cell_type": "code",
      "source": [
        "my_list = [53, 45.2, True, \"Felis\", (1, 2, 3)]\n",
        "print(my_list)\n",
        "type(my_list)"
      ],
      "metadata": {
        "colab": {
          "base_uri": "https://localhost:8080/"
        },
        "id": "TcGr6eCWM1_5",
        "outputId": "71d170cd-41f1-4af1-d061-7d5bae6d617e"
      },
      "execution_count": 16,
      "outputs": [
        {
          "output_type": "stream",
          "name": "stdout",
          "text": [
            "[53, 45.2, True, 'Felis', (1, 2, 3)]\n"
          ]
        },
        {
          "output_type": "execute_result",
          "data": {
            "text/plain": [
              "list"
            ]
          },
          "metadata": {},
          "execution_count": 16
        }
      ]
    },
    {
      "cell_type": "code",
      "source": [
        "print(my_tuple[-3])"
      ],
      "metadata": {
        "colab": {
          "base_uri": "https://localhost:8080/"
        },
        "id": "qdh_JgpCNMjU",
        "outputId": "e74c2a13-1176-4a91-93d7-0399474750ba"
      },
      "execution_count": 21,
      "outputs": [
        {
          "output_type": "stream",
          "name": "stdout",
          "text": [
            "True\n"
          ]
        }
      ]
    },
    {
      "cell_type": "code",
      "source": [
        "print(my_list[1:4])"
      ],
      "metadata": {
        "colab": {
          "base_uri": "https://localhost:8080/"
        },
        "id": "pnKpCWF8NyhJ",
        "outputId": "14781646-253f-4331-8e66-478ce59ba9b7"
      },
      "execution_count": 27,
      "outputs": [
        {
          "output_type": "stream",
          "name": "stdout",
          "text": [
            "[45.2, True, 'Felis']\n"
          ]
        }
      ]
    },
    {
      "cell_type": "code",
      "source": [
        "\"Felis\" in my_list"
      ],
      "metadata": {
        "colab": {
          "base_uri": "https://localhost:8080/"
        },
        "id": "6RarxkTLN0rx",
        "outputId": "8e364250-ccc3-4f36-f034-64ae339ce59c"
      },
      "execution_count": 28,
      "outputs": [
        {
          "output_type": "execute_result",
          "data": {
            "text/plain": [
              "True"
            ]
          },
          "metadata": {},
          "execution_count": 28
        }
      ]
    },
    {
      "cell_type": "code",
      "source": [
        "# perbedaan\n",
        "\n",
        "# pengubahan data\n",
        "my_list[3] = \"Ngoding\""
      ],
      "metadata": {
        "id": "NeAAprSpPpfl"
      },
      "execution_count": 30,
      "outputs": []
    },
    {
      "cell_type": "code",
      "source": [
        "my_list"
      ],
      "metadata": {
        "colab": {
          "base_uri": "https://localhost:8080/"
        },
        "id": "7mm0ltlaQdeQ",
        "outputId": "cbda92da-9ec4-46ae-f94a-9f43c7cedac3"
      },
      "execution_count": 31,
      "outputs": [
        {
          "output_type": "execute_result",
          "data": {
            "text/plain": [
              "[53, 45.2, True, 'Ngoding', (1, 2, 3)]"
            ]
          },
          "metadata": {},
          "execution_count": 31
        }
      ]
    },
    {
      "cell_type": "code",
      "source": [
        "# menambah data\n",
        "my_list"
      ],
      "metadata": {
        "colab": {
          "base_uri": "https://localhost:8080/"
        },
        "id": "iGrZnEWkQpe8",
        "outputId": "5ca43c9b-4737-41d4-e8cd-c5562f3f2a0b"
      },
      "execution_count": 34,
      "outputs": [
        {
          "output_type": "execute_result",
          "data": {
            "text/plain": [
              "[53, 45.2, True, 'Ngoding', (1, 2, 3)]"
            ]
          },
          "metadata": {},
          "execution_count": 34
        }
      ]
    },
    {
      "cell_type": "code",
      "source": [
        "# append\n",
        "my_list.append(\"Hacktiv8\")"
      ],
      "metadata": {
        "colab": {
          "base_uri": "https://localhost:8080/"
        },
        "id": "afd_JwDKQ2H8",
        "outputId": "2218ac25-34d1-46e9-fa71-82885e1d2186"
      },
      "execution_count": 37,
      "outputs": [
        {
          "output_type": "execute_result",
          "data": {
            "text/plain": [
              "[53, 45.2, True, 'Ngoding', (1, 2, 3), 'Hacktiv8', 'Hacktiv8']"
            ]
          },
          "metadata": {},
          "execution_count": 37
        }
      ]
    },
    {
      "cell_type": "code",
      "source": [
        "my_list.insert(0, \"Kampus Merdeka\")"
      ],
      "metadata": {
        "id": "scHp_BDdQ7Rx"
      },
      "execution_count": 38,
      "outputs": []
    },
    {
      "cell_type": "code",
      "source": [
        "my_list"
      ],
      "metadata": {
        "colab": {
          "base_uri": "https://localhost:8080/"
        },
        "id": "PIL24zwkRMkb",
        "outputId": "c6bd2b31-86d7-44d5-d3f2-89fd77549f90"
      },
      "execution_count": 39,
      "outputs": [
        {
          "output_type": "execute_result",
          "data": {
            "text/plain": [
              "['Kampus Merdeka',\n",
              " 53,\n",
              " 45.2,\n",
              " True,\n",
              " 'Ngoding',\n",
              " (1, 2, 3),\n",
              " 'Hacktiv8',\n",
              " 'Hacktiv8']"
            ]
          },
          "metadata": {},
          "execution_count": 39
        }
      ]
    },
    {
      "cell_type": "code",
      "source": [
        "# menghapus data\n",
        "my_list.remove(\"Ngoding\")"
      ],
      "metadata": {
        "id": "8uF6YvPuRNoO"
      },
      "execution_count": 40,
      "outputs": []
    },
    {
      "cell_type": "code",
      "source": [
        "my_list"
      ],
      "metadata": {
        "colab": {
          "base_uri": "https://localhost:8080/"
        },
        "id": "1oeIKgekRUQm",
        "outputId": "7cc15059-e9b4-4ba0-a4a4-a23cb85b6dee"
      },
      "execution_count": 41,
      "outputs": [
        {
          "output_type": "execute_result",
          "data": {
            "text/plain": [
              "['Kampus Merdeka', 53, 45.2, True, (1, 2, 3), 'Hacktiv8', 'Hacktiv8']"
            ]
          },
          "metadata": {},
          "execution_count": 41
        }
      ]
    },
    {
      "cell_type": "code",
      "source": [
        "del my_list[-1]"
      ],
      "metadata": {
        "id": "Ie5rxvI0RVha"
      },
      "execution_count": 42,
      "outputs": []
    },
    {
      "cell_type": "code",
      "source": [
        "my_list"
      ],
      "metadata": {
        "colab": {
          "base_uri": "https://localhost:8080/"
        },
        "id": "1q9yuP2MRbaQ",
        "outputId": "a3a7fb47-9c7d-4a8c-94c3-b905ceada53d"
      },
      "execution_count": 43,
      "outputs": [
        {
          "output_type": "execute_result",
          "data": {
            "text/plain": [
              "['Kampus Merdeka', 53, 45.2, True, (1, 2, 3), 'Hacktiv8']"
            ]
          },
          "metadata": {},
          "execution_count": 43
        }
      ]
    },
    {
      "cell_type": "code",
      "source": [
        "# dictionary\n",
        "my_dict = {'nama':'Felis Tigris H', 'pekerjaan':'Data Scientist'}"
      ],
      "metadata": {
        "id": "iJtMTLGDRcZh"
      },
      "execution_count": 44,
      "outputs": []
    },
    {
      "cell_type": "code",
      "source": [
        "my_dict['nama']"
      ],
      "metadata": {
        "colab": {
          "base_uri": "https://localhost:8080/",
          "height": 35
        },
        "id": "lCKsPm-pSKxf",
        "outputId": "31effd2e-3d78-44a7-cc17-6a7f4c32f7d7"
      },
      "execution_count": 48,
      "outputs": [
        {
          "output_type": "execute_result",
          "data": {
            "text/plain": [
              "'felis'"
            ],
            "application/vnd.google.colaboratory.intrinsic+json": {
              "type": "string"
            }
          },
          "metadata": {},
          "execution_count": 48
        }
      ]
    },
    {
      "cell_type": "code",
      "source": [
        "my_dict['nama'] = 'felis'"
      ],
      "metadata": {
        "id": "luRbfQoZSYGA"
      },
      "execution_count": 47,
      "outputs": []
    },
    {
      "cell_type": "code",
      "source": [
        "my_dict['domisili'] = 'pwt'"
      ],
      "metadata": {
        "id": "Z_FHoB2sSeYr"
      },
      "execution_count": 49,
      "outputs": []
    },
    {
      "cell_type": "code",
      "source": [
        "my_dict"
      ],
      "metadata": {
        "colab": {
          "base_uri": "https://localhost:8080/"
        },
        "id": "NF2De5SVS1wR",
        "outputId": "d962cddc-29fc-4be0-ef62-ed52dfcb06ec"
      },
      "execution_count": 50,
      "outputs": [
        {
          "output_type": "execute_result",
          "data": {
            "text/plain": [
              "{'nama': 'felis', 'pekerjaan': 'Data Scientist', 'domisili': 'pwt'}"
            ]
          },
          "metadata": {},
          "execution_count": 50
        }
      ]
    },
    {
      "cell_type": "code",
      "source": [
        "del my_dict[\"pekerjaan\"]"
      ],
      "metadata": {
        "id": "6Y_kykFVS26p"
      },
      "execution_count": 51,
      "outputs": []
    },
    {
      "cell_type": "code",
      "source": [
        "my_dict"
      ],
      "metadata": {
        "colab": {
          "base_uri": "https://localhost:8080/"
        },
        "id": "fS1L2MVPS9iI",
        "outputId": "b41ecbda-e8d8-43b9-ec18-d56f049cb3b0"
      },
      "execution_count": 52,
      "outputs": [
        {
          "output_type": "execute_result",
          "data": {
            "text/plain": [
              "{'nama': 'felis', 'domisili': 'pwt'}"
            ]
          },
          "metadata": {},
          "execution_count": 52
        }
      ]
    },
    {
      "cell_type": "code",
      "source": [
        "# set\n",
        "my_set1 = {1,1,1,1,1,1,2,2,2,2,3,4,4,4,5,5,5}\n",
        "my_set2 = {3,6,9,12}"
      ],
      "metadata": {
        "id": "erg-2zLQS-sN"
      },
      "execution_count": 2,
      "outputs": []
    },
    {
      "cell_type": "code",
      "source": [
        "my_set1.union(my_set2)"
      ],
      "metadata": {
        "colab": {
          "base_uri": "https://localhost:8080/"
        },
        "id": "hlz3LShoTaQO",
        "outputId": "2146f550-97a4-4d3e-f7ee-c72d1d6ecc85"
      },
      "execution_count": 4,
      "outputs": [
        {
          "output_type": "execute_result",
          "data": {
            "text/plain": [
              "{1, 2, 3, 4, 5, 6, 9, 12}"
            ]
          },
          "metadata": {},
          "execution_count": 4
        }
      ]
    },
    {
      "cell_type": "code",
      "source": [
        "my_set1.intersection(my_set2)"
      ],
      "metadata": {
        "colab": {
          "base_uri": "https://localhost:8080/"
        },
        "id": "c0Tyxuq-TzNO",
        "outputId": "8601d9ca-e330-4ffc-9c43-be1895cfe800"
      },
      "execution_count": 5,
      "outputs": [
        {
          "output_type": "execute_result",
          "data": {
            "text/plain": [
              "{3}"
            ]
          },
          "metadata": {},
          "execution_count": 5
        }
      ]
    },
    {
      "cell_type": "markdown",
      "source": [
        "### String Formatting"
      ],
      "metadata": {
        "id": "XA2wCDkVT_IQ"
      }
    },
    {
      "cell_type": "code",
      "source": [
        "nama = \"Ngoding\"\n",
        "nama[4]"
      ],
      "metadata": {
        "colab": {
          "base_uri": "https://localhost:8080/",
          "height": 35
        },
        "id": "yuslVyPeT2Lv",
        "outputId": "8b6bd399-0023-473a-cc57-74bab9b9ff42"
      },
      "execution_count": 6,
      "outputs": [
        {
          "output_type": "execute_result",
          "data": {
            "text/plain": [
              "'i'"
            ],
            "application/vnd.google.colaboratory.intrinsic+json": {
              "type": "string"
            }
          },
          "metadata": {},
          "execution_count": 6
        }
      ]
    },
    {
      "cell_type": "code",
      "source": [
        "nama[2:6]"
      ],
      "metadata": {
        "colab": {
          "base_uri": "https://localhost:8080/",
          "height": 35
        },
        "id": "0voeusgmUJlh",
        "outputId": "c576bc30-ef42-4a20-a003-e8a50f694226"
      },
      "execution_count": 7,
      "outputs": [
        {
          "output_type": "execute_result",
          "data": {
            "text/plain": [
              "'odin'"
            ],
            "application/vnd.google.colaboratory.intrinsic+json": {
              "type": "string"
            }
          },
          "metadata": {},
          "execution_count": 7
        }
      ]
    },
    {
      "cell_type": "code",
      "source": [
        "'G' in nama"
      ],
      "metadata": {
        "colab": {
          "base_uri": "https://localhost:8080/"
        },
        "id": "vupSpr7HUOq-",
        "outputId": "f6332417-e2c1-4468-92af-56bb66e1a08d"
      },
      "execution_count": 9,
      "outputs": [
        {
          "output_type": "execute_result",
          "data": {
            "text/plain": [
              "False"
            ]
          },
          "metadata": {},
          "execution_count": 9
        }
      ]
    },
    {
      "cell_type": "code",
      "source": [
        "# f string\n",
        "nama = \"Felis\"\n",
        "print(f\"nama saya {nama}\")"
      ],
      "metadata": {
        "colab": {
          "base_uri": "https://localhost:8080/"
        },
        "id": "EiflNF5oUWBs",
        "outputId": "c886952e-cdd7-4358-8909-1d5075216c6d"
      },
      "execution_count": 10,
      "outputs": [
        {
          "output_type": "stream",
          "name": "stdout",
          "text": [
            "nama saya Felis\n"
          ]
        }
      ]
    },
    {
      "cell_type": "code",
      "source": [
        "nama = \"Tigris\"\n",
        "kelas = \"SE04C\"\n",
        "print(f\"Siswa bernama {nama} berada di kelas {kelas}\")"
      ],
      "metadata": {
        "colab": {
          "base_uri": "https://localhost:8080/"
        },
        "id": "f9paLiESUsTe",
        "outputId": "50ff0083-3ff5-4edf-e00c-74f6c5a0af5f"
      },
      "execution_count": 11,
      "outputs": [
        {
          "output_type": "stream",
          "name": "stdout",
          "text": [
            "Siswa bernama Tigris berada di kelas SE04C\n"
          ]
        }
      ]
    },
    {
      "cell_type": "code",
      "source": [
        ""
      ],
      "metadata": {
        "id": "HfGDiZRPU63M"
      },
      "execution_count": null,
      "outputs": []
    }
  ]
}